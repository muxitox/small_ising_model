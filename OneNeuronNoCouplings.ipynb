{
 "cells": [
  {
   "cell_type": "code",
   "execution_count": 1,
   "metadata": {},
   "outputs": [],
   "source": [
    "import numpy as np\n",
    "from itertools import product\n",
    "import math\n",
    "import random\n",
    "import copy"
   ]
  },
  {
   "cell_type": "markdown",
   "metadata": {},
   "source": [
    "#### Test Metropolis"
   ]
  },
  {
   "cell_type": "code",
   "execution_count": 69,
   "metadata": {},
   "outputs": [],
   "source": [
    "class Metropolis:\n",
    "    def __init__(self, H):\n",
    "        self.H = H\n",
    "        # Possible values the spins can take\n",
    "        self.spin_values = [-1,1]\n",
    "        # Calculate the shape of the matrix and save useful variables\n",
    "        self.num_spins = 1\n",
    "        \n",
    "    def metropolis_step(self):\n",
    "        # Randomly select a spin (now it can only select 0)\n",
    "        spin_to_flip = np.random.randint(self.num_spins)\n",
    "\n",
    "        delta_energy = 2*(self.H[spin_to_flip]*self.sigma[spin_to_flip])\n",
    "\n",
    "        p = math.exp(-delta_energy)\n",
    "        r = random.random()\n",
    "\n",
    "        #print(delta_energy, r, p)\n",
    "        if delta_energy <= 0 or r<p:\n",
    "            self.sigma[spin_to_flip] = -self.sigma[spin_to_flip]\n",
    "\n",
    "    def metropolis_simulation(self, max_steps, burn_in_len=0):\n",
    "        # Generate a random initial spin configuration\n",
    "        self.sigma = random.choices(self.spin_values, k=self.num_spins)\n",
    "        \n",
    "        # Create a dictionary to count the frequencies\n",
    "        samples_dict = {}\n",
    "        for i in range(0, max_steps):\n",
    "            # Take a metropolis step\n",
    "            self.metropolis_step()\n",
    "            \n",
    "            # Save the state if the burn-in phase has passed\n",
    "            if i >= burn_in_len:\n",
    "                \n",
    "                if not tuple(self.sigma) in samples_dict: # If the state is new, create an entry\n",
    "                    samples_dict[tuple(self.sigma)] = 1\n",
    "                else: # If the state already appeared, add one\n",
    "                    samples_dict[tuple(self.sigma)] += 1\n",
    "\n",
    "        # Normalize the probability\n",
    "        sum_states = sum(samples_dict.values())\n",
    "        normalized_dict = {k: v / sum_states for k, v in samples_dict.items()}\n",
    "                                                 \n",
    "        return normalized_dict\n",
    "\n",
    "    def get_statistics(self, states_dict):\n",
    "        total =  np.zeros(len(self.H))\n",
    "        # Calculate the expectation\n",
    "        for sigma, prob in states_dict.items():\n",
    "            total += np.dot(sigma,prob)\n",
    "            \n",
    "        return total\n",
    "\n",
    "    def test(self, simulation_len, burn_in_len):\n",
    "        print('Initial H', self.H)\n",
    "        print('Magnetization', np.tanh(self.H))\n",
    "        \n",
    "        samples_dict = self.metropolis_simulation(simulation_len, burn_in_len)\n",
    "        \n",
    "        print(samples_dict)\n",
    "\n",
    "        # Calculate the data expectations        \n",
    "        model_magnetization = self.get_statistics(samples_dict)\n",
    "        \n",
    "        \n",
    "        print('Metropolis magnetization', model_magnetization)\n",
    "        print('Diff', model_magnetization - np.tanh(self.H))"
   ]
  },
  {
   "cell_type": "code",
   "execution_count": 70,
   "metadata": {},
   "outputs": [],
   "source": [
    "H = [0.70]\n",
    "metropolis = Metropolis(H)"
   ]
  },
  {
   "cell_type": "code",
   "execution_count": 71,
   "metadata": {},
   "outputs": [
    {
     "name": "stdout",
     "output_type": "stream",
     "text": [
      "Initial H [0.7]\n",
      "Magnetization [0.60436778]\n",
      "{(1,): 0.8211111111111111, (-1,): 0.17888888888888888}\n",
      "Metropolis magnetization [0.64222222]\n",
      "Diff [0.03785445]\n"
     ]
    }
   ],
   "source": [
    "metropolis.test(simulation_len=1000, burn_in_len=100)"
   ]
  },
  {
   "cell_type": "code",
   "execution_count": 72,
   "metadata": {},
   "outputs": [
    {
     "data": {
      "text/plain": [
       "100"
      ]
     },
     "execution_count": 72,
     "metadata": {},
     "output_type": "execute_result"
    }
   ],
   "source": [
    "# Should be around 0 if random\n",
    "acum = 0\n",
    "for i in range(0,10000):   \n",
    "    v = random.choices([-1, 1], k=1)\n",
    "    acum += v[0]\n",
    "acum"
   ]
  },
  {
   "cell_type": "markdown",
   "metadata": {},
   "source": [
    "#### Only H"
   ]
  },
  {
   "cell_type": "code",
   "execution_count": 243,
   "metadata": {},
   "outputs": [],
   "source": [
    "class SimpleIsingModel:\n",
    "    def __init__(self, data, lr=0.0005):\n",
    "        self.lr = lr\n",
    "        \n",
    "        # Possible values the spins can take\n",
    "        self.spin_values = [-1,1]\n",
    "        \n",
    "        # Create a ndarray from the data\n",
    "        self.data_activations_matrix = np.array(data)\n",
    "        # Calculate the shape of the matrix and save useful variables\n",
    "        self.num_spins = self.data_activations_matrix.shape[1]\n",
    "        self.num_samples_data = self.data_activations_matrix.shape[0]\n",
    "        \n",
    "        # Calculate the true data expectations\n",
    "        # The mean\n",
    "        self.data_mean = np.mean(self.data_activations_matrix, axis=0)\n",
    "        \n",
    "                \n",
    "        # Calculate the initial H vector, each entry proportional to its probability (according to Hinton)\n",
    "        #self.H = np.sum(self.data_activations_matrix, axis=0)/ float(self.num_samples_data)\n",
    "        # Try with random H\n",
    "        self.H = np.random.normal(loc=0.0, scale=.01, size=self.num_spins)\n",
    "        \n",
    "        \n",
    "    # Train the exact model\n",
    "    def train(self, max_epochs = 500):\n",
    "        \n",
    "        totalParamVariation = math.inf\n",
    "        stopCondition = 0.0000005\n",
    "        \n",
    "        epoch = 1\n",
    "        \n",
    "        while totalParamVariation > stopCondition and epoch < max_epochs:\n",
    "            # Calculate P(sigma) for every possible combination in the model\n",
    "\n",
    "            prob_dict = {}\n",
    "            for sigma in product(self.spin_values, repeat=self.num_spins):\n",
    "                prob_dict[sigma] = math.exp(-self.calculate_energy(sigma))\n",
    "\n",
    "            # Calculate the partition function\n",
    "            Z = sum(prob_dict.values())\n",
    "\n",
    "            # Normalize dividing by the partition function\n",
    "            for sigma in prob_dict.keys():\n",
    "                prob_dict[sigma] = prob_dict[sigma]/Z\n",
    "\n",
    "            model_mean = np.zeros(self.H.shape)\n",
    "            for sigma in product(self.spin_values, repeat=self.num_spins):\n",
    "                # Calculate the expectation of the averages\n",
    "                for i in range(0, self.num_spins):\n",
    "                    model_mean[i] += sigma[i]*prob_dict[sigma]\n",
    "\n",
    "\n",
    "            # Calculate the step size for every H_{i}\n",
    "            stepH = self.lr * (self.data_mean - model_mean)\n",
    "            \n",
    "            oldH = copy.deepcopy(self.H)\n",
    "            # Take the step\n",
    "            self.H = self.H + stepH\n",
    "            \n",
    "            # Calculate the variation of J for the termination condition\n",
    "            totalParamVariation = np.sum(np.absolute(self.H - oldH))\n",
    "\n",
    "            if epoch%100 == 0:\n",
    "                print('Epoch', epoch, 'TotalParamVariation', round(totalParamVariation, 8))\n",
    "                print(model_mean, 'Average Model')\n",
    "                print(self.data_mean, 'Average Data')\n",
    "                print(self.data_mean - model_mean, 'Diff')\n",
    "                print()\n",
    "            \n",
    "            epoch += 1\n",
    "\n",
    "        print(self.data_mean, 'Spins average')\n",
    "        print(self.H, 'H')\n",
    "    \n",
    "    def metropolis_step(self):\n",
    "        spin_to_flip = np.random.randint(self.num_spins)\n",
    "        \n",
    "        delta_energy = 2*(self.H[spin_to_flip]*self.sigma[spin_to_flip])\n",
    "        \n",
    "        p = math.exp(-delta_energy)\n",
    "        r = random.random()\n",
    "        \n",
    "        if delta_energy <= 0 or r<p:\n",
    "            \n",
    "            self.sigma[spin_to_flip] = -self.sigma[spin_to_flip]\n",
    "        \n",
    "    def metropolis_simulation(self, max_steps, burn_in_len=0):\n",
    "        # Generate a random initial spin configuration\n",
    "        model_activations_list = []\n",
    "        self.sigma = random.choices(self.spin_values, k=self.num_spins)\n",
    "        \n",
    "        for i in range(0, max_steps):\n",
    "            \n",
    "            # Take a metropolis step\n",
    "            self.metropolis_step()\n",
    "            \n",
    "            # Save the state if the burn-in phase has passed\n",
    "            if i > burn_in_len:\n",
    "                model_activations_list.append(copy.deepcopy(self.sigma))\n",
    "\n",
    "        \n",
    "        return model_activations_list\n",
    "    \n",
    "    def train_metropolis(self, max_epochs = 300, simulation_len = 100, burn_in_len=0):\n",
    "        random.seed(3)\n",
    "        totalParamVariation = math.inf\n",
    "        stopCondition = 0.0000000005\n",
    "        \n",
    "        epoch = 1\n",
    "        \n",
    "        while totalParamVariation > stopCondition and epoch < max_epochs:\n",
    "\n",
    "            model_activations_list = self.metropolis_simulation(simulation_len, burn_in_len)   \n",
    "            model_activations_matrix = np.array(model_activations_list)\n",
    "\n",
    "            # Calculate the data expectations\n",
    "            model_mean = np.mean(model_activations_matrix, axis=0)\n",
    "            \n",
    "            # Calculate the step size for every H_{i}\n",
    "            stepH = self.lr * (self.data_mean - model_mean)\n",
    "            # Take the step\n",
    "            oldH = copy.deepcopy(self.H)\n",
    "            self.H = self.H + stepH\n",
    "            \n",
    "            # Calculate the variation of H for the stop condition\n",
    "            totalParamVariation = np.sum(np.absolute(self.H - oldH))\n",
    "            \n",
    "            if epoch > 9950:\n",
    "                print('Epoch', epoch, 'TotalParamVariation', round(totalParamVariation, 8))\n",
    "                print(model_mean, 'Average Model')\n",
    "                print(self.data_mean, 'Average Data')\n",
    "                print(self.data_mean - model_mean, 'Diff')\n",
    "                print()\n",
    "\n",
    "            epoch +=1\n",
    "        \n",
    "        print(self.data_mean, 'Spins average')\n",
    "        print(self.H, 'H')\n",
    "\n",
    "\n",
    "    def test_metropolis(self, simulation_len, burn_in_len):\n",
    "        print('Initial H', self.H)\n",
    "        print('Data average', self.data_mean)\n",
    "        print('Magnetization', np.tanh(self.H))\n",
    "        \n",
    "        model_activations_list = self.metropolis_simulation(simulation_len, burn_in_len)\n",
    "        model_activations_matrix = np.array(model_activations_list)\n",
    "\n",
    "        # Calculate the data expectations\n",
    "        model_mean = np.mean(model_activations_matrix, axis=0)\n",
    "        \n",
    "        print('Metropolis magnetization', model_mean)\n",
    "        print('Diff', model_mean - np.tanh(self.H))\n"
   ]
  },
  {
   "cell_type": "code",
   "execution_count": 244,
   "metadata": {},
   "outputs": [],
   "source": [
    "activations_list = [[1], [1], [-1], [-1], [1], [-1], [1], [1]]\n",
    "s_ising = SimpleIsingModel(activations_list, lr=0.005)\n"
   ]
  },
  {
   "cell_type": "code",
   "execution_count": 242,
   "metadata": {},
   "outputs": [
    {
     "name": "stdout",
     "output_type": "stream",
     "text": [
      "Initial H [0.00941252]\n",
      "Data average [0.25]\n",
      "Magnetization [0.00941224]\n",
      "Metropolis magnetization [0.00556174]\n",
      "Diff [-0.00385051]\n"
     ]
    }
   ],
   "source": [
    "s_ising.test_metropolis(simulation_len=1000, burn_in_len=100)"
   ]
  },
  {
   "cell_type": "code",
   "execution_count": null,
   "metadata": {
    "scrolled": true
   },
   "outputs": [],
   "source": [
    "s_ising.train_metropolis( max_epochs = 10000, simulation_len = 1000, burn_in_len=100)"
   ]
  },
  {
   "cell_type": "code",
   "execution_count": 71,
   "metadata": {},
   "outputs": [],
   "source": [
    "my_dict = {}\n",
    "my_list = tuple([1,-1])\n",
    "my_dict[my_list]=3\n",
    "\n"
   ]
  },
  {
   "cell_type": "code",
   "execution_count": null,
   "metadata": {},
   "outputs": [],
   "source": []
  }
 ],
 "metadata": {
  "kernelspec": {
   "display_name": "Python 3",
   "language": "python",
   "name": "python3"
  },
  "language_info": {
   "codemirror_mode": {
    "name": "ipython",
    "version": 3
   },
   "file_extension": ".py",
   "mimetype": "text/x-python",
   "name": "python",
   "nbconvert_exporter": "python",
   "pygments_lexer": "ipython3",
   "version": "3.8.5"
  }
 },
 "nbformat": 4,
 "nbformat_minor": 4
}
